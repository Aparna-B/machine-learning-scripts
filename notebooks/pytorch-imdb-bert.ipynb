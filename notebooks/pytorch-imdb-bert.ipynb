{
 "cells": [
  {
   "cell_type": "markdown",
   "metadata": {
    "colab_type": "text",
    "id": "jNKaJz5j_ylj"
   },
   "source": [
    "# IMDB movie review sentiment classification with BERT finetuning\n",
    "\n",
    "In this notebook, we'll use a pre-trained [BERT](https://arxiv.org/abs/1810.04805) model for text classification using PyTorch and [PyTorch-Transformers](https://github.com/huggingface/pytorch-transformers). This notebook is based on [\"Predicting Movie Review Sentiment with BERT on TF Hub\"](https://github.com/google-research/bert/blob/master/predicting_movie_reviews_with_bert_on_tf_hub.ipynb) by Google and [\"BERT Fine-Tuning Tutorial with PyTorch\"](https://mccormickml.com/2019/07/22/BERT-fine-tuning/) by Chris McCormick.\n",
    "\n",
    "**Note that using a GPU with this notebook is highly recommended.**\n",
    "\n",
    "First, the needed imports."
   ]
  },
  {
   "cell_type": "code",
   "execution_count": 1,
   "metadata": {
    "colab": {
     "base_uri": "https://localhost:8080/",
     "height": 34
    },
    "colab_type": "code",
    "id": "Ok002ceNB8E7",
    "outputId": "06ef90d2-7518-4209-da66-1dd45c357c78"
   },
   "outputs": [
    {
     "name": "stderr",
     "output_type": "stream",
     "text": [
      "Using TensorFlow backend.\n"
     ]
    },
    {
     "name": "stdout",
     "output_type": "stream",
     "text": [
      "Using PyTorch version: 1.1.0 Device: cuda [Tesla P100-PCIE-16GB]\n"
     ]
    }
   ],
   "source": [
    "%matplotlib inline\n",
    "\n",
    "import torch\n",
    "from torch.utils.data import (TensorDataset, DataLoader,\n",
    "                              RandomSampler, SequentialSampler)\n",
    "from keras.preprocessing.sequence import pad_sequences\n",
    "\n",
    "from pytorch_transformers import BertTokenizer, BertConfig\n",
    "from pytorch_transformers import BertForSequenceClassification\n",
    "from pytorch_transformers import AdamW, WarmupLinearSchedule\n",
    "\n",
    "from distutils.version import LooseVersion as LV\n",
    "\n",
    "from sklearn.model_selection import train_test_split\n",
    "\n",
    "import io\n",
    "\n",
    "import pandas as pd\n",
    "import numpy as np\n",
    "import matplotlib.pyplot as plt\n",
    "import seaborn as sns\n",
    "sns.set()\n",
    "\n",
    "if torch.cuda.is_available():\n",
    "    device = torch.device('cuda')\n",
    "    devicename = '['+torch.cuda.get_device_name(0)+']'\n",
    "else:\n",
    "    device = torch.device('cpu')\n",
    "    devicename = \"\"\n",
    "    \n",
    "print('Using PyTorch version:', torch.__version__,\n",
    "      'Device:', device, devicename)\n",
    "assert(LV(torch.__version__) >= LV(\"1.0.0\"))"
   ]
  },
  {
   "cell_type": "markdown",
   "metadata": {
    "colab_type": "text",
    "id": "guw6ZNtaswKc"
   },
   "source": [
    "## IMDB data set\n",
    "\n",
    "We'll use the [raw version of the IMDB dataset](http://ai.stanford.edu/~amaas/data/sentiment/). \n",
    "For convenience, the IMDB training and test sets has in advance been converted to Pandas DataFrames.\n",
    "\n",
    "First time we may have to download the data, which can take a while.\n",
    "\n",
    "The ground truth consists of binary sentiments for each review: positive (1) or negative (0)."
   ]
  },
  {
   "cell_type": "code",
   "execution_count": 2,
   "metadata": {},
   "outputs": [
    {
     "name": "stdout",
     "output_type": "stream",
     "text": [
      "IMDB data loaded:\n",
      "train: (25000, 3)\n",
      "test: (25000, 3)\n"
     ]
    }
   ],
   "source": [
    "train_df = pd.read_pickle(\"imdb-train.pkl\")\n",
    "test_df  = pd.read_pickle(\"imdb-test.pkl\")\n",
    "\n",
    "# possibly reduce the amount of training data:\n",
    "#train_df = train_df.sample(5000)\n",
    "\n",
    "print('IMDB data loaded:')\n",
    "print('train:', train_df.shape)\n",
    "print('test:', test_df.shape)"
   ]
  },
  {
   "cell_type": "markdown",
   "metadata": {},
   "source": [
    "Let's view some random training reviews:"
   ]
  },
  {
   "cell_type": "code",
   "execution_count": 3,
   "metadata": {
    "colab": {
     "base_uri": "https://localhost:8080/",
     "height": 357
    },
    "colab_type": "code",
    "id": "AQfTaYDo42zu",
    "outputId": "eb8bb9de-af4c-4eb9-d075-85809e063e55"
   },
   "outputs": [
    {
     "data": {
      "text/html": [
       "<div>\n",
       "<style scoped>\n",
       "    .dataframe tbody tr th:only-of-type {\n",
       "        vertical-align: middle;\n",
       "    }\n",
       "\n",
       "    .dataframe tbody tr th {\n",
       "        vertical-align: top;\n",
       "    }\n",
       "\n",
       "    .dataframe thead th {\n",
       "        text-align: right;\n",
       "    }\n",
       "</style>\n",
       "<table border=\"1\" class=\"dataframe\">\n",
       "  <thead>\n",
       "    <tr style=\"text-align: right;\">\n",
       "      <th></th>\n",
       "      <th>sentence</th>\n",
       "      <th>sentiment</th>\n",
       "      <th>polarity</th>\n",
       "    </tr>\n",
       "  </thead>\n",
       "  <tbody>\n",
       "    <tr>\n",
       "      <th>14745</th>\n",
       "      <td>i really loved this version of Emma the best. ...</td>\n",
       "      <td>8</td>\n",
       "      <td>1</td>\n",
       "    </tr>\n",
       "    <tr>\n",
       "      <th>6039</th>\n",
       "      <td>I watched this movie with some friends a coupl...</td>\n",
       "      <td>1</td>\n",
       "      <td>0</td>\n",
       "    </tr>\n",
       "    <tr>\n",
       "      <th>11244</th>\n",
       "      <td>Saw this in the theater in '86 and fell out of...</td>\n",
       "      <td>10</td>\n",
       "      <td>1</td>\n",
       "    </tr>\n",
       "    <tr>\n",
       "      <th>24253</th>\n",
       "      <td>Most who go to this movie will have an idea wh...</td>\n",
       "      <td>7</td>\n",
       "      <td>1</td>\n",
       "    </tr>\n",
       "    <tr>\n",
       "      <th>20410</th>\n",
       "      <td>this film takes you inside itself in the early...</td>\n",
       "      <td>9</td>\n",
       "      <td>1</td>\n",
       "    </tr>\n",
       "    <tr>\n",
       "      <th>2056</th>\n",
       "      <td>Some saying about 'The Play is the Most Import...</td>\n",
       "      <td>10</td>\n",
       "      <td>1</td>\n",
       "    </tr>\n",
       "    <tr>\n",
       "      <th>16521</th>\n",
       "      <td>This is one of the best made movies from 2002....</td>\n",
       "      <td>9</td>\n",
       "      <td>1</td>\n",
       "    </tr>\n",
       "    <tr>\n",
       "      <th>5600</th>\n",
       "      <td>I would have left the movie halfway through if...</td>\n",
       "      <td>1</td>\n",
       "      <td>0</td>\n",
       "    </tr>\n",
       "    <tr>\n",
       "      <th>4965</th>\n",
       "      <td>I really enjoyed this movie. Most of the revie...</td>\n",
       "      <td>10</td>\n",
       "      <td>1</td>\n",
       "    </tr>\n",
       "    <tr>\n",
       "      <th>10953</th>\n",
       "      <td>The world is made up two different types of mo...</td>\n",
       "      <td>10</td>\n",
       "      <td>1</td>\n",
       "    </tr>\n",
       "  </tbody>\n",
       "</table>\n",
       "</div>"
      ],
      "text/plain": [
       "                                                sentence sentiment  polarity\n",
       "14745  i really loved this version of Emma the best. ...         8         1\n",
       "6039   I watched this movie with some friends a coupl...         1         0\n",
       "11244  Saw this in the theater in '86 and fell out of...        10         1\n",
       "24253  Most who go to this movie will have an idea wh...         7         1\n",
       "20410  this film takes you inside itself in the early...         9         1\n",
       "2056   Some saying about 'The Play is the Most Import...        10         1\n",
       "16521  This is one of the best made movies from 2002....         9         1\n",
       "5600   I would have left the movie halfway through if...         1         0\n",
       "4965   I really enjoyed this movie. Most of the revie...        10         1\n",
       "10953  The world is made up two different types of mo...        10         1"
      ]
     },
     "execution_count": 3,
     "metadata": {},
     "output_type": "execute_result"
    }
   ],
   "source": [
    "train_df.sample(10)"
   ]
  },
  {
   "cell_type": "markdown",
   "metadata": {},
   "source": [
    "The reviews, i.e, our input data, are in the *sentence* column and the labels in the *polarity* column.\n",
    "\n",
    "The token `[CLS]` is a special token required by BERT at the beginning of the sentence."
   ]
  },
  {
   "cell_type": "code",
   "execution_count": 4,
   "metadata": {
    "colab": {},
    "colab_type": "code",
    "id": "GuE5BqICAne2"
   },
   "outputs": [
    {
     "name": "stdout",
     "output_type": "stream",
     "text": [
      "The first training sentence:\n",
      "[CLS] i wasn't a fan of seeing this movie at all, but when my gf called me and said she had a free advanced screening pass i tagged along only for the sake of seeing eva longoria and laughing at jason biggs antics.<br /><br />overall it was actually better then i expected but not by much. this was like a hybrid of how to lose a guy in 10 days and just like heaven. a typical romantic comedy with its moments i guess. the movie was quite short though (around 85 min.) but it was enough to tell the whole story, build some character development and have a decent happy ending. the whole idea of a ghost haunting its former husband was a interesting plot to follow. eva did a good job of keeping up the sarcasm and paul rudd and the rest of the supporting cast (especially jason biggs) kept the laughs coming at a smooth pace.<br /><br />overall i liked the movie only because it had a good amount of laughs to keep me going otherwise i would have given this movie a lower rating. hey its a chick flick and i'm reviewing this movie from a guy's persepctive alright, it would be more of a fair fight if females reviewied this movie and gave there thoughts about it. LABEL: 1\n"
     ]
    }
   ],
   "source": [
    "sentences_train = train_df.sentence.values\n",
    "sentences_train = [\"[CLS] \" + s for s in sentences_train]\n",
    "\n",
    "sentences_test = test_df.sentence.values\n",
    "sentences_test = [\"[CLS] \" + s for s in sentences_test]\n",
    "\n",
    "labels_train = train_df.polarity.values\n",
    "labels_test  = test_df.polarity.values\n",
    "\n",
    "print (\"The first training sentence:\")\n",
    "print(sentences_train[0], 'LABEL:', labels_train[0])"
   ]
  },
  {
   "cell_type": "markdown",
   "metadata": {
    "colab_type": "text",
    "id": "BTREubVNFiz4"
   },
   "source": [
    "Next we use the BERT tokenizer to convert the sentences into tokens that match the data BERT was trained on."
   ]
  },
  {
   "cell_type": "code",
   "execution_count": 5,
   "metadata": {
    "colab": {
     "base_uri": "https://localhost:8080/",
     "height": 71
    },
    "colab_type": "code",
    "id": "Z474sSC6oe7A",
    "outputId": "fbaa8fd8-bccd-4feb-ce52-beba5d293cfa"
   },
   "outputs": [
    {
     "name": "stdout",
     "output_type": "stream",
     "text": [
      "The tokenized first training sentence:\n",
      "['[CLS]', 'i', 'wasn', \"'\", 't', 'a', 'fan', 'of', 'seeing', 'this', 'movie', 'at', 'all', ',', 'but', 'when', 'my', 'g', '##f', 'called', 'me', 'and', 'said', 'she', 'had', 'a', 'free', 'advanced', 'screening', 'pass', 'i', 'tagged', 'along', 'only', 'for', 'the', 'sake', 'of', 'seeing', 'eva', 'long', '##oria', 'and', 'laughing', 'at', 'jason', 'big', '##gs', 'antics', '.', '<', 'br', '/', '>', '<', 'br', '/', '>', 'overall', 'it', 'was', 'actually', 'better', 'then', 'i', 'expected', 'but', 'not', 'by', 'much', '.', 'this', 'was', 'like', 'a', 'hybrid', 'of', 'how', 'to', 'lose', 'a', 'guy', 'in', '10', 'days', 'and', 'just', 'like', 'heaven', '.', 'a', 'typical', 'romantic', 'comedy', 'with', 'its', 'moments', 'i', 'guess', '.', 'the', 'movie', 'was', 'quite', 'short', 'though', '(', 'around', '85', 'min', '.', ')', 'but', 'it', 'was', 'enough', 'to', 'tell', 'the', 'whole', 'story', ',', 'build', 'some', 'character', 'development', 'and', 'have', 'a', 'decent', 'happy', 'ending', '.', 'the', 'whole', 'idea', 'of', 'a', 'ghost', 'haunting', 'its', 'former', 'husband', 'was', 'a', 'interesting', 'plot', 'to', 'follow', '.', 'eva', 'did', 'a', 'good', 'job', 'of', 'keeping', 'up', 'the', 'sarcasm', 'and', 'paul', 'rudd', 'and', 'the', 'rest', 'of', 'the', 'supporting', 'cast', '(', 'especially', 'jason', 'big', '##gs', ')', 'kept', 'the', 'laughs', 'coming', 'at', 'a', 'smooth', 'pace', '.', '<', 'br', '/', '>', '<', 'br', '/', '>', 'overall', 'i', 'liked', 'the', 'movie', 'only', 'because', 'it', 'had', 'a', 'good', 'amount', 'of', 'laughs', 'to', 'keep', 'me', 'going', 'otherwise', 'i', 'would', 'have', 'given', 'this', 'movie', 'a', 'lower', 'rating', '.', 'hey', 'its', 'a', 'chick', 'flick', 'and', 'i', \"'\", 'm', 'reviewing', 'this', 'movie', 'from', 'a', 'guy', \"'\", 's', 'per', '##se', '##pc', '##tive', 'alright', ',', 'it', 'would', 'be', 'more', 'of', 'a', 'fair', 'fight', 'if', 'females', 'review', '##ied', 'this', 'movie', 'and', 'gave', 'there', 'thoughts', 'about', 'it', '.']\n"
     ]
    }
   ],
   "source": [
    "tokenizer = BertTokenizer.from_pretrained('bert-base-uncased',\n",
    "                                          do_lower_case=True)\n",
    "\n",
    "tokenized_train = [tokenizer.tokenize(s) for s in sentences_train]\n",
    "tokenized_test  = [tokenizer.tokenize(s) for s in sentences_test]\n",
    "\n",
    "print (\"The tokenized first training sentence:\")\n",
    "print (tokenized_train[0])"
   ]
  },
  {
   "cell_type": "markdown",
   "metadata": {
    "colab": {},
    "colab_type": "code",
    "id": "Cp9BPRd1tMIo"
   },
   "source": [
    "Now we set the maximum sequence lengths for our training and test sentences as `MAX_LEN_TRAIN` and `MAX_LEN_TEST`. The maximum length supported by the used BERT model is 512.\n",
    "\n",
    "The token `[SEP]` is another special token required by BERT at the end of the sentence."
   ]
  },
  {
   "cell_type": "code",
   "execution_count": 6,
   "metadata": {
    "colab": {},
    "colab_type": "code",
    "id": "Cp9BPRd1tMIo"
   },
   "outputs": [
    {
     "name": "stdout",
     "output_type": "stream",
     "text": [
      "The tokenized first training sentence:\n",
      "['[CLS]', 'i', 'wasn', \"'\", 't', 'a', 'fan', 'of', 'seeing', 'this', 'movie', 'at', 'all', ',', 'but', 'when', 'my', 'g', '##f', 'called', 'me', 'and', 'said', 'she', 'had', 'a', 'free', 'advanced', 'screening', 'pass', 'i', 'tagged', 'along', 'only', 'for', 'the', 'sake', 'of', 'seeing', 'eva', 'long', '##oria', 'and', 'laughing', 'at', 'jason', 'big', '##gs', 'antics', '.', '<', 'br', '/', '>', '<', 'br', '/', '>', 'overall', 'it', 'was', 'actually', 'better', 'then', 'i', 'expected', 'but', 'not', 'by', 'much', '.', 'this', 'was', 'like', 'a', 'hybrid', 'of', 'how', 'to', 'lose', 'a', 'guy', 'in', '10', 'days', 'and', 'just', 'like', 'heaven', '.', 'a', 'typical', 'romantic', 'comedy', 'with', 'its', 'moments', 'i', 'guess', '.', 'the', 'movie', 'was', 'quite', 'short', 'though', '(', 'around', '85', 'min', '.', ')', 'but', 'it', 'was', 'enough', 'to', 'tell', 'the', 'whole', 'story', ',', 'build', 'some', 'character', 'development', 'and', 'SEP']\n"
     ]
    }
   ],
   "source": [
    "MAX_LEN_TRAIN, MAX_LEN_TEST = 128, 512\n",
    "\n",
    "tokenized_train = [t[:(MAX_LEN_TRAIN-1)]+['SEP'] for t in tokenized_train]\n",
    "tokenized_test  = [t[:(MAX_LEN_TEST-1)]+['SEP'] for t in tokenized_test]\n",
    "\n",
    "print (\"The tokenized first training sentence:\")\n",
    "print (tokenized_train[0])"
   ]
  },
  {
   "cell_type": "markdown",
   "metadata": {},
   "source": [
    "Next we use the BERT tokenizer to convert each token into an integer index in the BERT vocabulary. We also pad any shorter sequences to `MAX_LEN_TRAIN` or `MAX_LEN_TEST` indices with trailing zeros."
   ]
  },
  {
   "cell_type": "code",
   "execution_count": null,
   "metadata": {
    "colab": {},
    "colab_type": "code",
    "id": "uZeXeNXgo0iQ"
   },
   "outputs": [],
   "source": [
    "ids_train = pad_sequences([tokenizer.convert_tokens_to_ids(t) for t in tokenized_train],\n",
    "                          maxlen=MAX_LEN_TRAIN, dtype=\"long\", truncating=\"post\", padding=\"post\")\n",
    "ids_test = pad_sequences([tokenizer.convert_tokens_to_ids(t) for t in tokenized_test],\n",
    "                         maxlen=MAX_LEN_TEST, dtype=\"long\", truncating=\"post\", padding=\"post\")\n",
    "\n",
    "print (\"The indices of the first training sentence:\")\n",
    "print (ids_train[0])"
   ]
  },
  {
   "cell_type": "markdown",
   "metadata": {
    "colab_type": "text",
    "id": "KhGulL1pExCT"
   },
   "source": [
    "BERT also requires *attention masks*, with 1 for each real token in the sequences and 0 for the padding:   "
   ]
  },
  {
   "cell_type": "code",
   "execution_count": 8,
   "metadata": {
    "colab": {},
    "colab_type": "code",
    "id": "cDoC24LeEv3N"
   },
   "outputs": [],
   "source": [
    "amasks_train, amasks_test = [], []\n",
    "\n",
    "for seq in ids_train:\n",
    "  seq_mask = [float(i>0) for i in seq]\n",
    "  amasks_train.append(seq_mask)\n",
    "    \n",
    "for seq in ids_test:\n",
    "  seq_mask = [float(i>0) for i in seq]\n",
    "  amasks_test.append(seq_mask)"
   ]
  },
  {
   "cell_type": "markdown",
   "metadata": {
    "colab": {},
    "colab_type": "code",
    "id": "aFbE-UHvsb7-"
   },
   "source": [
    "We use scikit-learn's `train_test_split` to use 10% of our training data as a validation set, and then convert all data into `torch.tensor`s."
   ]
  },
  {
   "cell_type": "code",
   "execution_count": 9,
   "metadata": {
    "colab": {},
    "colab_type": "code",
    "id": "aFbE-UHvsb7-"
   },
   "outputs": [],
   "source": [
    "(train_inputs, validation_inputs, \n",
    " train_labels, validation_labels) = train_test_split(ids_train, labels_train, \n",
    "                                                     random_state=42,\n",
    "                                                     test_size=0.1)\n",
    "(train_masks, validation_masks, \n",
    " _, _) = train_test_split(amasks_train, ids_train,\n",
    "                          random_state=42, test_size=0.1)\n",
    "\n",
    "train_inputs = torch.tensor(train_inputs)\n",
    "train_labels = torch.tensor(train_labels)\n",
    "train_masks  = torch.tensor(train_masks)\n",
    "validation_inputs = torch.tensor(validation_inputs)\n",
    "validation_labels = torch.tensor(validation_labels)\n",
    "validation_masks  = torch.tensor(validation_masks)\n",
    "test_inputs = torch.tensor(ids_test)\n",
    "test_labels = torch.tensor(labels_test)\n",
    "test_masks  = torch.tensor(amasks_test)"
   ]
  },
  {
   "cell_type": "markdown",
   "metadata": {},
   "source": [
    "Next we create PyTorch *DataLoader*s for all data sets. \n",
    "\n",
    "For fine-tuning BERT on a specific task, the authors recommend a batch size of 16 or 32."
   ]
  },
  {
   "cell_type": "code",
   "execution_count": 10,
   "metadata": {
    "colab": {},
    "colab_type": "code",
    "id": "GEgLpFVlo1Z-"
   },
   "outputs": [
    {
     "name": "stdout",
     "output_type": "stream",
     "text": [
      "Train: 22500 reviews\n",
      "Validation: 2500 reviews\n",
      "Test: 25000 reviews\n"
     ]
    }
   ],
   "source": [
    "BATCH_SIZE = 32\n",
    "\n",
    "print('Train: ', end=\"\")\n",
    "train_data = TensorDataset(train_inputs, train_masks,\n",
    "                           train_labels)\n",
    "train_sampler = RandomSampler(train_data)\n",
    "train_dataloader = DataLoader(train_data, sampler=train_sampler, \n",
    "                              batch_size=BATCH_SIZE)\n",
    "print(len(train_data), 'reviews')\n",
    "\n",
    "print('Validation: ', end=\"\")\n",
    "validation_data = TensorDataset(validation_inputs, validation_masks,\n",
    "                                validation_labels)\n",
    "validation_sampler = SequentialSampler(validation_data)\n",
    "validation_dataloader = DataLoader(validation_data,\n",
    "                                   sampler=validation_sampler,\n",
    "                                   batch_size=BATCH_SIZE)\n",
    "print(len(validation_data), 'reviews')\n",
    "\n",
    "print('Test: ', end=\"\")\n",
    "test_data = TensorDataset(test_inputs, test_masks, test_labels)\n",
    "test_sampler = SequentialSampler(test_data)\n",
    "test_dataloader = DataLoader(test_data, sampler=test_sampler,\n",
    "                             batch_size=BATCH_SIZE)\n",
    "print(len(test_data), 'reviews')"
   ]
  },
  {
   "cell_type": "markdown",
   "metadata": {
    "colab": {
     "base_uri": "https://localhost:8080/",
     "height": 1000
    },
    "colab_type": "code",
    "id": "gFsCTp_mporB",
    "outputId": "dd067229-1925-4b37-f517-0c14e25420d1"
   },
   "source": [
    "## BERT model initialization\n",
    "\n",
    "We now load a pretrained BERT model with a single linear classification layer added on top. "
   ]
  },
  {
   "cell_type": "code",
   "execution_count": null,
   "metadata": {
    "colab": {
     "base_uri": "https://localhost:8080/",
     "height": 1000
    },
    "colab_type": "code",
    "id": "gFsCTp_mporB",
    "outputId": "dd067229-1925-4b37-f517-0c14e25420d1"
   },
   "outputs": [],
   "source": [
    "model = BertForSequenceClassification.from_pretrained(\"bert-base-uncased\", \n",
    "                                                      num_labels=2)\n",
    "model.cuda()"
   ]
  },
  {
   "cell_type": "markdown",
   "metadata": {
    "colab_type": "text",
    "id": "8o-VEBobKwHk"
   },
   "source": [
    "We set the remaining hyperparameters needed for fine-tuning the pretrained model:\n",
    "  * `EPOCHS`: the number of training epochs in fine-tuning (recommended values between 2 and 4)\n",
    "  * `WEIGHT_DECAY`: weight decay for the Adam optimizer\n",
    "  * `LR`: learning rate for the Adam optimizer (2e-5 to 5e-5 recommended)\n",
    "  * `WARMUP_STEPS`: number of warmup steps to (linearly) reach the set learning rate \n",
    "  \n",
    "We also need to grab the training parameters from the pretrained model."
   ]
  },
  {
   "cell_type": "code",
   "execution_count": 61,
   "metadata": {
    "colab": {},
    "colab_type": "code",
    "id": "QxSMw0FrptiL"
   },
   "outputs": [],
   "source": [
    "EPOCHS = 4\n",
    "WEIGHT_DECAY = 0.01 \n",
    "LR = 2e-5\n",
    "WARMUP_STEPS =int(0.2*len(train_dataloader))\n",
    "\n",
    "no_decay = ['bias', 'LayerNorm.weight']\n",
    "optimizer_grouped_parameters = [\n",
    "    {'params': [p for n, p in model.named_parameters() if not any(nd in n for nd in no_decay)],\n",
    "     'weight_decay': WEIGHT_DECAY},\n",
    "    {'params': [p for n, p in model.named_parameters() if any(nd in n for nd in no_decay)],\n",
    "     'weight_decay': 0.0}\n",
    "]\n",
    "optimizer = AdamW(optimizer_grouped_parameters, lr=LR, eps=1e-8)\n",
    "scheduler = WarmupLinearSchedule(optimizer, warmup_steps=WARMUP_STEPS,\n",
    "                                 t_total=len(train_dataloader)*EPOCHS)"
   ]
  },
  {
   "cell_type": "code",
   "execution_count": 62,
   "metadata": {
    "colab": {
     "base_uri": "https://localhost:8080/",
     "height": 172
    },
    "colab_type": "code",
    "id": "6J-FYdx6nFE_",
    "outputId": "8e388ad1-f9db-4c7b-d080-6c0a0e964610"
   },
   "outputs": [],
   "source": [
    "def train(epoch, loss_vector=None, log_interval=200):\n",
    "  # Set model to training mode\n",
    "  model.train()\n",
    "  \n",
    "  # Loop over each batch from the training set\n",
    "  for step, batch in enumerate(train_dataloader):\n",
    "\n",
    "    # Copy data to GPU if needed\n",
    "    batch = tuple(t.to(device) for t in batch)\n",
    "    \n",
    "    # Unpack the inputs from our dataloader\n",
    "    b_input_ids, b_input_mask, b_labels = batch\n",
    "    \n",
    "    # Zero gradient buffers\n",
    "    optimizer.zero_grad()\n",
    "    \n",
    "    # Forward pass\n",
    "    outputs = model(b_input_ids, token_type_ids=None, \n",
    "                    attention_mask=b_input_mask, labels=b_labels)\n",
    "\n",
    "    loss = outputs[0]\n",
    "    if loss_vector is not None:\n",
    "        loss_vector.append(loss.item())\n",
    "    \n",
    "    # Backward pass\n",
    "    loss.backward()\n",
    "    \n",
    "    # Update weights\n",
    "    scheduler.step()\n",
    "    optimizer.step()\n",
    "    \n",
    "    if step % log_interval == 0:\n",
    "        print('Train Epoch: {} [{}/{} ({:.0f}%)]\\tLoss: {:.6f}'.format(\n",
    "                epoch, step * len(b_input_ids),\n",
    "                len(train_dataloader.dataset),\n",
    "                100. * step / len(train_dataloader), loss))    "
   ]
  },
  {
   "cell_type": "code",
   "execution_count": 63,
   "metadata": {
    "colab": {
     "base_uri": "https://localhost:8080/",
     "height": 172
    },
    "colab_type": "code",
    "id": "6J-FYdx6nFE_",
    "outputId": "8e388ad1-f9db-4c7b-d080-6c0a0e964610"
   },
   "outputs": [],
   "source": [
    "def evaluate(loader):\n",
    "  model.eval()\n",
    "\n",
    "  n_correct, n_all = 0, 0\n",
    "    \n",
    "  for batch in loader:\n",
    "    batch = tuple(t.to(device) for t in batch)\n",
    "    b_input_ids, b_input_mask, b_labels = batch\n",
    "\n",
    "    with torch.no_grad():\n",
    "      outputs = model(b_input_ids, token_type_ids=None,\n",
    "                      attention_mask=b_input_mask)\n",
    "      logits = outputs[0]\n",
    "    \n",
    "    logits = logits.detach().cpu().numpy()\n",
    "    predictions = np.argmax(logits, axis=1)\n",
    "\n",
    "    labels = b_labels.to('cpu').numpy()\n",
    "    n_correct += np.sum(predictions == labels)\n",
    "    n_all += len(labels)\n",
    "    \n",
    "  print('Accuracy: [{}/{}] {:.4f}\\n'.format(n_correct, n_all, n_correct/n_all))"
   ]
  },
  {
   "cell_type": "code",
   "execution_count": 64,
   "metadata": {},
   "outputs": [
    {
     "name": "stdout",
     "output_type": "stream",
     "text": [
      "Train Epoch: 1 [0/22500 (0%)]\tLoss: 0.699508\n",
      "Train Epoch: 1 [6400/22500 (28%)]\tLoss: 0.253407\n",
      "Train Epoch: 1 [12800/22500 (57%)]\tLoss: 0.417832\n",
      "Train Epoch: 1 [19200/22500 (85%)]\tLoss: 0.255559\n",
      "\n",
      "Validation set:\n",
      "Accuracy: [2180/2500] 0.8720\n",
      "\n",
      "Train Epoch: 2 [0/22500 (0%)]\tLoss: 0.198932\n",
      "Train Epoch: 2 [6400/22500 (28%)]\tLoss: 0.265345\n",
      "Train Epoch: 2 [12800/22500 (57%)]\tLoss: 0.341248\n",
      "Train Epoch: 2 [19200/22500 (85%)]\tLoss: 0.146564\n",
      "\n",
      "Validation set:\n",
      "Accuracy: [2191/2500] 0.8764\n",
      "\n",
      "Train Epoch: 3 [0/22500 (0%)]\tLoss: 0.122537\n",
      "Train Epoch: 3 [6400/22500 (28%)]\tLoss: 0.074572\n",
      "Train Epoch: 3 [12800/22500 (57%)]\tLoss: 0.084266\n",
      "Train Epoch: 3 [19200/22500 (85%)]\tLoss: 0.087106\n",
      "\n",
      "Validation set:\n",
      "Accuracy: [2191/2500] 0.8764\n",
      "\n",
      "Train Epoch: 4 [0/22500 (0%)]\tLoss: 0.015811\n",
      "Train Epoch: 4 [6400/22500 (28%)]\tLoss: 0.010665\n",
      "Train Epoch: 4 [12800/22500 (57%)]\tLoss: 0.126329\n",
      "Train Epoch: 4 [19200/22500 (85%)]\tLoss: 0.127962\n",
      "\n",
      "Validation set:\n",
      "Accuracy: [2191/2500] 0.8764\n",
      "\n",
      "CPU times: user 17min 6s, sys: 5min 24s, total: 22min 30s\n",
      "Wall time: 22min 30s\n"
     ]
    }
   ],
   "source": [
    "%%time\n",
    "\n",
    "train_lossv = []\n",
    "for epoch in range(1, EPOCHS + 1):\n",
    "    train(epoch, train_lossv)\n",
    "    print('\\nValidation set:')\n",
    "    evaluate(validation_dataloader)"
   ]
  },
  {
   "cell_type": "markdown",
   "metadata": {
    "colab_type": "text",
    "id": "1-G03mmwH3aI"
   },
   "source": [
    "Let's take a look at our training loss over all batches:"
   ]
  },
  {
   "cell_type": "code",
   "execution_count": 65,
   "metadata": {
    "colab": {
     "base_uri": "https://localhost:8080/",
     "height": 512
    },
    "colab_type": "code",
    "id": "68xreA9JAmG5",
    "outputId": "6861a923-7a4e-4d03-b6fa-3038b6e2f89d"
   },
   "outputs": [
    {
     "data": {
      "image/png": "[encoded data removed]",
      "text/plain": [
       "<Figure size 1080x576 with 1 Axes>"
      ]
     },
     "metadata": {},
     "output_type": "display_data"
    }
   ],
   "source": [
    "plt.figure(figsize=(15,8))\n",
    "plt.title(\"Training loss\")\n",
    "plt.xlabel(\"Batch\")\n",
    "plt.ylabel(\"Loss\")\n",
    "plt.plot(train_lossv, label='original')\n",
    "plt.plot(np.convolve(train_lossv, np.ones(101), 'same') / 101, label='averaged')\n",
    "plt.legend(loc='best')\n",
    "plt.show()"
   ]
  },
  {
   "cell_type": "markdown",
   "metadata": {
    "colab_type": "text",
    "id": "mkyubuJSOzg3"
   },
   "source": [
    "## Inference\n",
    "\n",
    "We evaluate the model using the test set."
   ]
  },
  {
   "cell_type": "code",
   "execution_count": 66,
   "metadata": {},
   "outputs": [
    {
     "name": "stdout",
     "output_type": "stream",
     "text": [
      "Test set:\n",
      "Accuracy: [23183/25000] 0.9273\n",
      "\n",
      "CPU times: user 5min 25s, sys: 2min 37s, total: 8min 2s\n",
      "Wall time: 8min 2s\n"
     ]
    }
   ],
   "source": [
    "%%time\n",
    "\n",
    "print('Test set:')\n",
    "evaluate(test_dataloader)"
   ]
  },
  {
   "cell_type": "code",
   "execution_count": null,
   "metadata": {},
   "outputs": [],
   "source": []
  }
 ],
 "metadata": {
  "accelerator": "GPU",
  "colab": {
   "collapsed_sections": [],
   "name": "BERT Fine-Tuning Sentence Classification.ipynb",
   "provenance": [],
   "toc_visible": true,
   "version": "0.3.2"
  },
  "kernelspec": {
   "display_name": "Python 3",
   "language": "python",
   "name": "python3"
  },
  "language_info": {
   "codemirror_mode": {
    "name": "ipython",
    "version": 3
   },
   "file_extension": ".py",
   "mimetype": "text/x-python",
   "name": "python",
   "nbconvert_exporter": "python",
   "pygments_lexer": "ipython3",
   "version": "3.5.2"
  }
 },
 "nbformat": 4,
 "nbformat_minor": 2
}
