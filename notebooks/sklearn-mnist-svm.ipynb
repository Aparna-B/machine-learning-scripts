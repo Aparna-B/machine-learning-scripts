{
 "cells": [
  {
   "cell_type": "markdown",
   "metadata": {},
   "source": [
    "# MNIST handwritten digits classification with support vector machines \n",
    "\n",
    "In this notebook, we'll use [support vector machines](http://scikit-learn.org/stable/modules/svm.html#svm-classification) to classify MNIST digits using scikit-learn.\n",
    "\n",
    "First, the needed imports. "
   ]
  },
  {
   "cell_type": "code",
   "execution_count": 1,
   "metadata": {
    "collapsed": true
   },
   "outputs": [],
   "source": [
    "%matplotlib inline\n",
    "\n",
    "from time import time\n",
    "import numpy as np\n",
    "from sklearn import svm\n",
    "\n",
    "import matplotlib.pyplot as plt\n",
    "import seaborn as sns"
   ]
  },
  {
   "cell_type": "markdown",
   "metadata": {},
   "source": [
    "Then we load the MNIST data. First time it downloads the data, which can take a while."
   ]
  },
  {
   "cell_type": "code",
   "execution_count": 2,
   "metadata": {
    "collapsed": false
   },
   "outputs": [
    {
     "name": "stderr",
     "output_type": "stream",
     "text": [
      "Using TensorFlow backend.\n"
     ]
    },
    {
     "name": "stdout",
     "output_type": "stream",
     "text": [
      "\n",
      "MNIST data loaded: train: 60000 test: 10000\n",
      "X_train: (60000, 28, 28)\n",
      "y_train: (60000,)\n",
      "X_test (10000, 28, 28)\n",
      "y_test (10000,)\n"
     ]
    }
   ],
   "source": [
    "from keras.datasets import mnist\n",
    "(X_train, y_train), (X_test, y_test) = mnist.load_data()\n",
    "\n",
    "print()\n",
    "print('MNIST data loaded: train:',len(X_train),'test:',len(X_test))\n",
    "print('X_train:', X_train.shape)\n",
    "print('y_train:', y_train.shape)\n",
    "print('X_test', X_test.shape)\n",
    "print('y_test', y_test.shape)"
   ]
  },
  {
   "cell_type": "markdown",
   "metadata": {},
   "source": [
    "## Linear SVM\n",
    "\n",
    "Let's first train a linear SVM with a subset of training data:"
   ]
  },
  {
   "cell_type": "code",
   "execution_count": 15,
   "metadata": {
    "collapsed": false
   },
   "outputs": [
    {
     "name": "stdout",
     "output_type": "stream",
     "text": [
      "Time elapsed: 8.71s\n"
     ]
    }
   ],
   "source": [
    "t0 = time()\n",
    "clf = svm.LinearSVC(max_iter=5000)\n",
    "clf.fit(X_train[:5000,:,:].reshape(-1,28*28), y_train[:5000])\n",
    "print('Time elapsed: %.2fs' % (time()-t0))"
   ]
  },
  {
   "cell_type": "code",
   "execution_count": 17,
   "metadata": {
    "collapsed": false
   },
   "outputs": [
    {
     "name": "stdout",
     "output_type": "stream",
     "text": [
      "Predicted 10000 digits with accuracy: 0.8169\n"
     ]
    }
   ],
   "source": [
    "def accuracy(pred):\n",
    "    plen = len(pred)\n",
    "    errors = pred!=y_test[:plen]\n",
    "    nerrors = np.sum(errors)\n",
    "    return (plen-nerrors)/plen, errors \n",
    "\n",
    "predictions = clf.predict(X_test.reshape(-1,28*28))\n",
    "acc, _ = accuracy(predictions)\n",
    "print('Predicted', len(predictions), 'digits with accuracy:', acc)"
   ]
  },
  {
   "cell_type": "code",
   "execution_count": null,
   "metadata": {
    "collapsed": true
   },
   "outputs": [],
   "source": []
  }
 ],
 "metadata": {
  "kernelspec": {
   "display_name": "Python 3",
   "language": "python",
   "name": "python3"
  },
  "language_info": {
   "codemirror_mode": {
    "name": "ipython",
    "version": 3
   },
   "file_extension": ".py",
   "mimetype": "text/x-python",
   "name": "python",
   "nbconvert_exporter": "python",
   "pygments_lexer": "ipython3",
   "version": "3.5.2"
  }
 },
 "nbformat": 4,
 "nbformat_minor": 1
}
